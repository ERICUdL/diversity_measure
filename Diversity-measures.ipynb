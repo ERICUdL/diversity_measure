{
 "cells": [
  {
   "cell_type": "code",
   "execution_count": 2,
   "metadata": {},
   "outputs": [],
   "source": [
    "import gensim\n",
    "# Load Google's pre-trained Word2Vec model.\n",
    "# Downloadable from: https://drive.google.com/file/d/0B7XkCwpI5KDYNlNUTTlSS21pQmM/edit?usp=sharing\n",
    "model = gensim.models.KeyedVectors.load_word2vec_format('data/GoogleNews-vectors-negative300.bin', binary=True)"
   ]
  },
  {
   "cell_type": "code",
   "execution_count": 6,
   "metadata": {},
   "outputs": [
    {
     "data": {
      "text/plain": [
       "0.42267702789777861"
      ]
     },
     "execution_count": 6,
     "metadata": {},
     "output_type": "execute_result"
    }
   ],
   "source": [
    "model.similarity('Artificial_Intelligence','Robotics')"
   ]
  },
  {
   "cell_type": "code",
   "execution_count": 121,
   "metadata": {},
   "outputs": [],
   "source": [
    "# Load results of Synset and Fusion(a=2)\n",
    "import pandas as pd\n",
    "synset_df = pd.read_csv('../stst/per_article_eval/baseline_eval.csv')\n",
    "fusion2_df = pd.read_csv('../stst/per_article_eval/evaluation.csv')\n",
    "synset_recommendation = synset_df['y_predict']\n",
    "fusion2_recommendation = fusion2_df['y_predict']\n",
    "synset_test = synset_df['y_test']\n",
    "fusion_test = fusion2_df['y_test']\n",
    "fusion3_df = pd.read_csv('../stst_r4/per_article_eval/evaluation.csv')\n",
    "fusion1_df = pd.read_csv('../stst_n1/per_article_eval/evaluation.csv')\n",
    "fusion4_df = pd.read_csv('../stst_n4/per_article_eval/evaluation.csv')\n",
    "fusion1_recommendation = fusion1_df['y_predict']\n",
    "fusion1_test = fusion1_df['y_test']\n",
    "fusion3_recommendation = fusion3_df['y_predict']\n",
    "fusion3_test = fusion3_df['y_test']\n",
    "fusion4_recommendation = fusion4_df['y_predict']\n",
    "fusion4_test = fusion4_df['y_test']"
   ]
  },
  {
   "cell_type": "code",
   "execution_count": 127,
   "metadata": {},
   "outputs": [],
   "source": [
    "def clean_topic(topic):\n",
    "    topic = topic.replace(' ','')\n",
    "    topic = topic.replace('\\'','')\n",
    "    topic = topic.lstrip('\\'')\n",
    "    topic = topic.lstrip('\\\"')\n",
    "    topic = topic.lstrip('\\'')\n",
    "    topic = topic.rstrip('\\'')\n",
    "    topic = topic.rstrip('\\\"')\n",
    "    topic = topic.rstrip('\\'')\n",
    "    return topic\n",
    "\n",
    "def unexpectedness(res_recommendation, test):\n",
    "    global_counter = 0\n",
    "    global_sim = 0.0\n",
    "    for i, recommendations in enumerate(res_recommendation):\n",
    "        recommendations.replace(' ','')\n",
    "        test[i].replace(' ','')\n",
    "        recommendations = recommendations[1:-1].split(',')\n",
    "        expectations = test[i][1:-1].split(',')\n",
    "        if not recommendations == expectations:\n",
    "            similarity = 0.0\n",
    "            counter = 0\n",
    "            for topic in recommendations:\n",
    "                topic = clean_topic(topic)\n",
    "                expectation = clean_topic(expectations[0])\n",
    "                if expectation in ['Information_Systems', 'international_relations', 'Respiratory_System']:\n",
    "                    break\n",
    "                if topic in ['Information_Systems', 'international_relations', 'Respiratory_System']:\n",
    "                    break\n",
    "                similarity += model.similarity(topic,expectation)\n",
    "                #print model.similarity(topic,expectation)\n",
    "                counter += 1\n",
    "            if counter > 0:\n",
    "                avg_similarity = similarity / counter\n",
    "                #print i, recommendations, expectation, avg_similarity, similarity, counter\n",
    "                global_sim += avg_similarity\n",
    "                global_counter += 1\n",
    "    return 1.0 - (global_sim / global_counter)"
   ]
  },
  {
   "cell_type": "code",
   "execution_count": 128,
   "metadata": {},
   "outputs": [
    {
     "name": "stdout",
     "output_type": "stream",
     "text": [
      "Synset unexpectedness =  0.587024405206\n",
      "Fusion1 unexpectedness =  0.572921174281\n",
      "Fusion2 unexpectedness =  0.558625720562\n",
      "Fusion3 unexpectedness =  0.519269696642\n",
      "Fusion4 unexpectedness =  0.509035913438\n"
     ]
    }
   ],
   "source": [
    "print 'Synset unexpectedness = ', unexpectedness(synset_recommendation, synset_test)\n",
    "print 'Fusion1 unexpectedness = ', unexpectedness(fusion1_recommendation, fusion1_test)\n",
    "print 'Fusion2 unexpectedness = ', unexpectedness(fusion2_recommendation, fusion_test)\n",
    "print 'Fusion3 unexpectedness = ', unexpectedness(fusion3_recommendation, fusion3_test)\n",
    "print 'Fusion4 unexpectedness = ', unexpectedness(fusion4_recommendation, fusion4_test)"
   ]
  },
  {
   "cell_type": "code",
   "execution_count": 123,
   "metadata": {},
   "outputs": [],
   "source": [
    "def ind_diversity(res_recommendation, test):\n",
    "    global_counter = 0\n",
    "    global_sim = 0.0\n",
    "    for i, recommendations in enumerate(res_recommendation):\n",
    "        recommendations.replace(' ','')\n",
    "        test[i].replace(' ','')\n",
    "        recommendations = recommendations[1:-1].split(',')\n",
    "        expectations = test[i][1:-1].split(',')\n",
    "        if not (recommendations == expectations or len(recommendations) == 1):\n",
    "            similarity = 0.0\n",
    "            counter = 0\n",
    "            for i in range(len(recommendations)):\n",
    "                topic = recommendations[i]\n",
    "                topic_a = clean_topic(topic)\n",
    "                if topic_a in ['Information_Systems', 'international_relations', 'Respiratory_System']:\n",
    "                    break\n",
    "                for j in range(i,len(recommendations)):\n",
    "                    topic = recommendations[j]\n",
    "                    topic_b = clean_topic(topic)\n",
    "                    if topic_b in ['Information_Systems', 'international_relations', 'Respiratory_System']:\n",
    "                        break\n",
    "                    similarity += model.similarity(topic_a, topic_b)\n",
    "                    #print model.similarity(topic,expectation)\n",
    "                    counter += 1\n",
    "                if counter > 0:\n",
    "                    avg_similarity = similarity / counter\n",
    "                    #print i, recommendations, expectation, avg_similarity, similarity, counter\n",
    "                    global_sim += avg_similarity\n",
    "                    global_counter += 1\n",
    "    return 1.0 - (global_sim / global_counter)"
   ]
  },
  {
   "cell_type": "code",
   "execution_count": 125,
   "metadata": {},
   "outputs": [
    {
     "name": "stdout",
     "output_type": "stream",
     "text": [
      "Synset diversity =  0.264854842801\n",
      "Fusion1 diversity =  0.247195072259\n",
      "Fusion2 diversity =  0.258550169678\n",
      "Fusion3 diversity =  0.267989073312\n",
      "Fusion4 diversity =  0.277376857984\n"
     ]
    }
   ],
   "source": [
    "print 'Synset diversity = ', ind_diversity(synset_recommendation, synset_test)\n",
    "print 'Fusion1 diversity = ', ind_diversity(fusion1_recommendation, fusion1_test)\n",
    "print 'Fusion2 diversity = ', ind_diversity(fusion2_recommendation, fusion_test)\n",
    "print 'Fusion3 diversity = ', ind_diversity(fusion3_recommendation, fusion3_test)\n",
    "print 'Fusion4 diversity = ', ind_diversity(fusion4_recommendation, fusion4_test)"
   ]
  }
 ],
 "metadata": {
  "kernelspec": {
   "display_name": "Python 2",
   "language": "python",
   "name": "python2"
  },
  "language_info": {
   "codemirror_mode": {
    "name": "ipython",
    "version": 2
   },
   "file_extension": ".py",
   "mimetype": "text/x-python",
   "name": "python",
   "nbconvert_exporter": "python",
   "pygments_lexer": "ipython2",
   "version": "2.7.12"
  }
 },
 "nbformat": 4,
 "nbformat_minor": 2
}
